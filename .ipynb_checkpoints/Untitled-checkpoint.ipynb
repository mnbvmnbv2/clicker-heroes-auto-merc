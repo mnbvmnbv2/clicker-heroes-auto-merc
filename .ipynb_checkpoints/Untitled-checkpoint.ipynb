{
 "cells": [
  {
   "cell_type": "code",
   "execution_count": 1,
   "id": "0e820d35",
   "metadata": {},
   "outputs": [
    {
     "name": "stdout",
     "output_type": "stream",
     "text": [
      "Collecting pynput\n",
      "  Downloading pynput-1.7.6-py2.py3-none-any.whl (89 kB)\n",
      "     ---------------------------------------- 89.2/89.2 KB 1.0 MB/s eta 0:00:00\n",
      "Requirement already satisfied: six in c:\\users\\ferdi\\appdata\\local\\programs\\python\\python310\\lib\\site-packages (from pynput) (1.16.0)\n",
      "Installing collected packages: pynput\n",
      "Successfully installed pynput-1.7.6\n"
     ]
    }
   ],
   "source": [
    "!pip install pynput"
   ]
  },
  {
   "cell_type": "code",
   "execution_count": null,
   "id": "58385f1f",
   "metadata": {},
   "outputs": [],
   "source": [
    "#1 (593,352)\n",
    "#2 (593,488)\n",
    "#3 (593,622)\n",
    "#4 (593,774)\n",
    "\n",
    "#quest1 (610,263)\n",
    "#acc (1042,458)\n",
    "\n",
    "#shop (1046,763)\n",
    "#timelapse (443,458)\n",
    "#168hr (820,678)\n",
    "#yes (666,523)\n",
    "#okay (766,550)\n",
    "#x1 (1138,107)\n",
    "#x2 (1400,78)\n",
    "\n",
    "#(410,730) hire\n",
    "# yes"
   ]
  },
  {
   "cell_type": "code",
   "execution_count": 19,
   "id": "5ff33e3e",
   "metadata": {},
   "outputs": [],
   "source": [
    "mouse.position = (1400, 78)"
   ]
  },
  {
   "cell_type": "code",
   "execution_count": 3,
   "id": "3080a385",
   "metadata": {},
   "outputs": [
    {
     "name": "stdout",
     "output_type": "stream",
     "text": [
      "The current pointer position is (410, 730)\n"
     ]
    }
   ],
   "source": [
    "from pynput.mouse import Button, Controller\n",
    "\n",
    "mouse = Controller()\n",
    "\n",
    "# Read pointer position\n",
    "print('The current pointer position is {0}'.format(mouse.position))\n",
    "\n",
    "# Set pointer position\n",
    "#mouse.position = (10, 20)\n",
    "#print('Now we have moved it to {0}'.format(mouse.position))\n",
    "\n",
    "# Press and release\n",
    "#mouse.press(Button.left)\n",
    "#mouse.release(Button.left)\n",
    "\n",
    "# Double click; this is different from pressing and releasing\n",
    "#mouse.click(Button.left, 2)\n",
    "\n",
    "# Scroll two steps down\n",
    "#mouse.scroll(0, 2)"
   ]
  },
  {
   "cell_type": "code",
   "execution_count": 30,
   "id": "94c2d1de",
   "metadata": {},
   "outputs": [],
   "source": [
    "if __name__ == '__main__':\n",
    "    from pynput.mouse import Button, Controller\n",
    "    import time\n",
    "\n",
    "    def yesclick():\n",
    "        time.sleep(0.2)\n",
    "        mouse.position = (666,523)\n",
    "        time.sleep(0.2)\n",
    "        mouse.click(Button.left, 1)\n",
    "        time.sleep(0.2)\n",
    "        \n",
    "    def mercbuy():\n",
    "        time.sleep(0.2)\n",
    "        mouse.position = (410,730)\n",
    "        time.sleep(0.2)\n",
    "        mouse.click(Button.left, 1)\n",
    "        yesclick()\n",
    "\n",
    "    time.sleep(1)\n",
    "\n",
    "    mouse = Controller()\n",
    "    pos = [(593,352),(593,488),(593,622),(593,768)]\n",
    "\n",
    "    for i in range(3):\n",
    "        for po in pos:\n",
    "            mouse.position = po\n",
    "            time.sleep(0.2)\n",
    "            mouse.click(Button.left, 1)\n",
    "            time.sleep(0.2)\n",
    "            mouse.click(Button.left, 1)\n",
    "            yesclick()\n",
    "            mouse.position = (610,263)\n",
    "            time.sleep(0.2)\n",
    "            mouse.click(Button.left, 1)\n",
    "            time.sleep(0.2)\n",
    "            mouse.position = (1042,458)\n",
    "            time.sleep(0.2)\n",
    "            mouse.click(Button.left, 1)\n",
    "            time.sleep(0.2)\n",
    "\n",
    "        xos = [(1046,763),(443,458),(820,678),(666,523),(766,550),(1138,107),(1400,78)]\n",
    "        for xo in xos:\n",
    "            mouse.position = xo\n",
    "            time.sleep(0.2)\n",
    "            mouse.click(Button.left, 1)\n",
    "            time.sleep(0.2)"
   ]
  },
  {
   "cell_type": "code",
   "execution_count": null,
   "id": "cdb29cc0",
   "metadata": {},
   "outputs": [],
   "source": []
  },
  {
   "cell_type": "code",
   "execution_count": null,
   "id": "c5c8723a",
   "metadata": {},
   "outputs": [],
   "source": []
  },
  {
   "cell_type": "code",
   "execution_count": null,
   "id": "da8a6a6c",
   "metadata": {},
   "outputs": [],
   "source": []
  },
  {
   "cell_type": "code",
   "execution_count": null,
   "id": "a5b577ab",
   "metadata": {},
   "outputs": [],
   "source": []
  }
 ],
 "metadata": {
  "kernelspec": {
   "display_name": "Python 3 (ipykernel)",
   "language": "python",
   "name": "python3"
  },
  "language_info": {
   "codemirror_mode": {
    "name": "ipython",
    "version": 3
   },
   "file_extension": ".py",
   "mimetype": "text/x-python",
   "name": "python",
   "nbconvert_exporter": "python",
   "pygments_lexer": "ipython3",
   "version": "3.10.2"
  }
 },
 "nbformat": 4,
 "nbformat_minor": 5
}
